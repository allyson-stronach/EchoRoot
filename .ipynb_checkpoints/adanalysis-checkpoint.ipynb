{
 "metadata": {
  "name": "",
  "signature": "sha256:c7174901781481aed74111ecdb59a8976c8a0be8fe2737a75feba350dbdf30b3"
 },
 "nbformat": 3,
 "nbformat_minor": 0,
 "worksheets": []
}